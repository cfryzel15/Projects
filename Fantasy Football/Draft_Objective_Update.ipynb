{
 "cells": [
  {
   "cell_type": "code",
   "execution_count": 1,
   "metadata": {},
   "outputs": [],
   "source": [
    "## import packages \n",
    "\n",
    "from bs4 import BeautifulSoup as Soup\n",
    "import requests\n",
    "import pandas as pd\n",
    "import numpy as np\n",
    "import pulp\n",
    "import re"
   ]
  },
  {
   "cell_type": "code",
   "execution_count": 2,
   "metadata": {},
   "outputs": [],
   "source": [
    "## set constraints \n",
    "\n",
    "## Update these \n",
    "auction_dollars = 194.00\n",
    "pos_drafted = {\n",
    "    \"QB\": 0,\n",
    "    \"RB\": 0,\n",
    "    \"WR\": 0,\n",
    "    \"TE\": 0\n",
    "}\n",
    "\n",
    "## leave these alone\n",
    "pos_max = {\n",
    "    \"QB\": 1,\n",
    "    \"RB\": 3,\n",
    "    \"WR\": 3,\n",
    "    \"TE\": 2\n",
    "\n",
    "}\n",
    "\n",
    "pos_min = {\n",
    "    \"QB\": 1,\n",
    "    \"RB\": 2,\n",
    "    \"WR\": 2,\n",
    "    \"TE\": 1\n",
    "}\n",
    "\n",
    "starter_max = 7.00 - sum(pos_drafted.values())\n"
   ]
  },
  {
   "cell_type": "code",
   "execution_count": 3,
   "metadata": {},
   "outputs": [],
   "source": [
    "## import data frame from excel\n",
    "excel_path = '/Users/cameronfryzel/Documents/FantasyFootball/FF_AuctionDraft_2023.xlsx'\n",
    "\n",
    "dict_df = pd.read_excel(excel_path, sheet_name = ['QB', 'RB', 'WR', 'TE'])"
   ]
  },
  {
   "cell_type": "code",
   "execution_count": 4,
   "metadata": {},
   "outputs": [],
   "source": [
    "## Convert dicts to df's and union \n",
    "\n",
    "df_qb = dict_df.get('QB')\n",
    "df_rb = dict_df.get('RB')\n",
    "df_wr = dict_df.get('WR')\n",
    "df_te = dict_df.get('TE')\n",
    "\n",
    "df_final = pd.concat([df_wr, df_rb, df_qb, df_te])\n",
    "df_final.reset_index(inplace=True)\n"
   ]
  },
  {
   "cell_type": "code",
   "execution_count": null,
   "metadata": {},
   "outputs": [],
   "source": []
  },
  {
   "cell_type": "code",
   "execution_count": 5,
   "metadata": {},
   "outputs": [],
   "source": [
    "## Aggregate objective function set up\n",
    "\n",
    "##create empty dictionaries\n",
    "values = {}\n",
    "points = {}\n",
    "##iterate through unique positions\n",
    "for pos in df_final.position.unique():\n",
    "    ## create temp df of each position\n",
    "    available_pos = df_final[df_final.position == pos]\n",
    "    ## create k/v pairs for player and auction value\n",
    "    value = list(available_pos[[\"name\",\"auction_value_ds\"]].set_index(\"name\").to_dict().values())[0]\n",
    "    point = list(available_pos[[\"name\",\"ds_points\"]].set_index(\"name\").to_dict().values())[0]\n",
    "    ## insert into dicts\n",
    "    values[pos] = value\n",
    "    points[pos] = point"
   ]
  },
  {
   "cell_type": "code",
   "execution_count": 6,
   "metadata": {},
   "outputs": [],
   "source": [
    "## idk what this is doing (I think creating variables for each k/v pair? so WR_Justin_Jefferson becomes a variable to\n",
    "## get a 1 or 0 binary?)\n",
    "_vars = {k: pulp.LpVariable.dict(k, v, cat=\"Binary\") for k, v in points.items()}"
   ]
  },
  {
   "cell_type": "code",
   "execution_count": 7,
   "metadata": {},
   "outputs": [],
   "source": [
    "##Surplus objective function set up\n",
    "##create empty dictionaries\n",
    "values_s = {}\n",
    "points_s = {}\n",
    "##iterate through unique positions\n",
    "for pos in df_final.position.unique():\n",
    "    ## create temp df of each position\n",
    "    available_pos = df_final[df_final.position == pos]\n",
    "    ## create k/v pairs for player and auction value\n",
    "    value_s = list(available_pos[[\"name\",\"surplus_auction_value\"]].set_index(\"name\").to_dict().values())[0]\n",
    "    point_s = list(available_pos[[\"name\",\"ds_points\"]].set_index(\"name\").to_dict().values())[0]\n",
    "    ## insert into dicts\n",
    "    values_s[pos] = value_s\n",
    "    points_s[pos] = point_s\n",
    "    \n",
    "_vars_s = {k: pulp.LpVariable.dict(k, v, cat=\"Binary\") for k, v in points_s.items()}"
   ]
  },
  {
   "cell_type": "code",
   "execution_count": 8,
   "metadata": {},
   "outputs": [],
   "source": [
    "def summary(prob):\n",
    "    div = '---------------------------------------\\n'\n",
    "    print(\"Variables:\\n\")\n",
    "    score = str(prob.objective)\n",
    "    constraints = [str(const) for const in prob.constraints.values()]\n",
    "    for v in prob.variables():\n",
    "        score = score.replace(v.name, str(v.varValue))\n",
    "        constraints = [const.replace(v.name, str(v.varValue)) for const in constraints]\n",
    "        for constraint_2 in constraints:\n",
    "            c = re.findall(\"[0-9\\.]*\\*1.0\", constraint_2)\n",
    "        if v.varValue != 0:\n",
    "            print(v.name, \"=\", c[-1])\n",
    "            ##print(v.name, \"=\", v.varValue)\n",
    "    print(div)\n",
    "    print(\"Constraints:\")\n",
    "    for constraint in constraints:\n",
    "        constraint_pretty = \" + \".join(re.findall(\"[0-9\\.]*\\*1.0\", constraint))\n",
    "        if constraint_pretty != \"\":\n",
    "            print(\"{} = {}\".format(constraint_pretty, eval(constraint_pretty)))\n",
    "    print(div)\n",
    "    print(\"Score:\")\n",
    "    score_pretty = \" + \".join(re.findall(\"[0-9\\.]+\\*1.0\", score))\n",
    "    print(\"{} = {}\".format(score_pretty, eval(score)))"
   ]
  },
  {
   "cell_type": "code",
   "execution_count": 9,
   "metadata": {
    "scrolled": true
   },
   "outputs": [],
   "source": [
    "## DataSharks Auction Value \n",
    "\n",
    "## name our problem MaxFF and state we want to maximize something (points)\n",
    "prob_ds = pulp.LpProblem(\"Fantasy_DS\", pulp.LpMaximize)\n",
    "\n",
    "#set the empty lists\n",
    "max_points_ds = []\n",
    "costs_ds = []\n",
    "position_constraints_ds = []\n",
    "\n",
    "\n",
    "for k, v in _vars.items():\n",
    "    ## sum of player costs\n",
    "    costs_ds += pulp.lpSum([values[k][i] * _vars[k][i] for i in v])\n",
    "    ## sum of points\n",
    "    max_points_ds += pulp.lpSum([points[k][i] * _vars[k][i] for i in v])\n",
    "    ## constraints on players\n",
    "    prob_ds += pulp.lpSum([_vars[k][i] for i in v]) <= (pos_max[k] - pos_drafted[k])\n",
    "    prob_ds += pulp.lpSum([_vars[k][i] for i in v]) >= (pos_min[k] - pos_drafted[k])\n",
    "    ##for i in v:\n",
    "    ##    prob_all += pulp.lpSum(_vars[k][i]) <= starter_max\n",
    "    position_constraints_ds += pulp.lpSum([v[i] for i in v]) \n",
    "\n",
    "## maximize points and keep costs below auction dollars\n",
    "prob_ds += pulp.lpSum(max_points_ds)\n",
    "prob_ds += pulp.lpSum(position_constraints_ds) <= starter_max\n",
    "prob_ds += pulp.lpSum(costs_ds) <= auction_dollars\n"
   ]
  },
  {
   "cell_type": "code",
   "execution_count": 10,
   "metadata": {},
   "outputs": [],
   "source": [
    "## Surplus Auction Value \n",
    "\n",
    "## name our problem MaxFF and state we want to maximize something (points)\n",
    "prob = pulp.LpProblem(\"Fantasy_Surplus\", pulp.LpMaximize)\n",
    "\n",
    "#set the empty lists\n",
    "max_points = []\n",
    "costs = []\n",
    "position_constraints = []\n",
    "\n",
    "\n",
    "for k, v in _vars_s.items():\n",
    "    ## sum of player costs\n",
    "    costs += pulp.lpSum([values_s[k][i] * _vars_s[k][i] for i in v])\n",
    "    ## sum of points\n",
    "    max_points += pulp.lpSum([points_s[k][i] * _vars_s[k][i] for i in v])\n",
    "    ## constraints on players\n",
    "    prob += pulp.lpSum([_vars_s[k][i] for i in v]) <= (pos_max[k] - pos_drafted[k])\n",
    "    prob += pulp.lpSum([_vars_s[k][i] for i in v]) >= (pos_min[k] - pos_drafted[k])\n",
    "    ##for i in v:\n",
    "    ##    prob_all += pulp.lpSum(_vars[k][i]) <= starter_max\n",
    "    position_constraints += pulp.lpSum([v[i] for i in v]) \n",
    "\n",
    "## maximize points and keep costs below auction dollars\n",
    "prob += pulp.lpSum(max_points)\n",
    "prob += pulp.lpSum(position_constraints) <= starter_max\n",
    "prob += pulp.lpSum(costs) <= auction_dollars"
   ]
  },
  {
   "cell_type": "code",
   "execution_count": 11,
   "metadata": {},
   "outputs": [
    {
     "name": "stdout",
     "output_type": "stream",
     "text": [
      "Variables:\n",
      "\n",
      "QB__Josh_Allen = 41.56480938416423*1.0\n",
      "RB__D'Andre_Swift = 1.586802946039391*1.0\n",
      "RB__Khalil_Herbert = 4.283330828197819*1.0\n",
      "TE__Travis_Kelce = 36.25361512791991*1.0\n",
      "WR__Garrett_Wilson = 29.28697835704891*1.0\n",
      "WR__Jaylen_Waddle = 24.11658495755112*1.0\n",
      "WR__Tyreek_Hill = 56.87157718522061*1.0\n",
      "---------------------------------------\n",
      "\n",
      "Constraints:\n",
      "41.56480938416423*1.0 + 1.586802946039391*1.0 + 4.283330828197819*1.0 + 36.25361512791991*1.0 + 29.28697835704891*1.0 + 24.11658495755112*1.0 + 56.87157718522061*1.0 = 193.963698786142\n",
      "---------------------------------------\n",
      "\n",
      "Score:\n",
      "415.7*1.0 + 147.25*1.0 + 151.15*1.0 + 226.7*1.0 + 212.0*1.0 + 202.6*1.0 + 262.15*1.0 = 1617.5499999999997\n"
     ]
    }
   ],
   "source": [
    "## Solve based on Draft Sharks Value\n",
    "\n",
    "prob_ds.solve()\n",
    "summary(prob_ds)"
   ]
  },
  {
   "cell_type": "code",
   "execution_count": 12,
   "metadata": {},
   "outputs": [
    {
     "name": "stdout",
     "output_type": "stream",
     "text": [
      "Variables:\n",
      "\n",
      "QB__Justin_Herbert = 30.71636263688574*1.0\n",
      "RB__A.J._Dillon = 4.574348662606519*1.0\n",
      "RB__Austin_Ekeler = 57.45715856322421*1.0\n",
      "TE__Pat_Freiermuth = 12.63775369971212*1.0\n",
      "WR__Chris_Godwin = 7.050081733620729*1.0\n",
      "WR__Drake_London = 9.324301647691925*1.0\n",
      "WR__Justin_Jefferson = 72.22519420776251*1.0\n",
      "---------------------------------------\n",
      "\n",
      "Constraints:\n",
      "30.71636263688574*1.0 + 4.574348662606519*1.0 + 57.45715856322421*1.0 + 12.63775369971212*1.0 + 7.050081733620729*1.0 + 9.324301647691925*1.0 + 72.22519420776251*1.0 = 193.98520115150376\n",
      "---------------------------------------\n",
      "\n",
      "Score:\n",
      "342.5*1.0 + 152.9*1.0 + 244.75*1.0 + 132.25*1.0 + 171.0*1.0 + 174.95*1.0 + 284.2*1.0 = 1502.5500000000002\n"
     ]
    }
   ],
   "source": [
    "## Solve based on Surplus Auction Value\n",
    "\n",
    "prob.solve()\n",
    "summary(prob)"
   ]
  },
  {
   "cell_type": "code",
   "execution_count": null,
   "metadata": {},
   "outputs": [],
   "source": []
  },
  {
   "cell_type": "code",
   "execution_count": null,
   "metadata": {},
   "outputs": [],
   "source": []
  },
  {
   "cell_type": "code",
   "execution_count": null,
   "metadata": {},
   "outputs": [],
   "source": []
  },
  {
   "cell_type": "code",
   "execution_count": null,
   "metadata": {},
   "outputs": [],
   "source": []
  }
 ],
 "metadata": {
  "kernelspec": {
   "display_name": "Python 3",
   "language": "python",
   "name": "python3"
  },
  "language_info": {
   "codemirror_mode": {
    "name": "ipython",
    "version": 3
   },
   "file_extension": ".py",
   "mimetype": "text/x-python",
   "name": "python",
   "nbconvert_exporter": "python",
   "pygments_lexer": "ipython3",
   "version": "3.7.4"
  }
 },
 "nbformat": 4,
 "nbformat_minor": 2
}
